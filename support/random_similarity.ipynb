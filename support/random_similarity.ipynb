{
 "cells": [
  {
   "cell_type": "code",
   "execution_count": 1,
   "metadata": {},
   "outputs": [],
   "source": [
    "from semantic_similarity import load_embedding_model\n",
    "model = load_embedding_model('../model_data/cc.en.300.vec')"
   ]
  },
  {
   "cell_type": "code",
   "execution_count": 2,
   "metadata": {},
   "outputs": [],
   "source": [
    "import json\n",
    "adjectives = json.load(open(\"../data/adjectives.json\"))"
   ]
  },
  {
   "cell_type": "code",
   "execution_count": 3,
   "metadata": {},
   "outputs": [
    {
     "name": "stdout",
     "output_type": "stream",
     "text": [
      "Average similarity for random sample #1: 0.391 -> [['cowardly', 'perky', 'analytical', 'foolish', 'unconformable']]...\n",
      "Average similarity for random sample #2: 0.391 -> [['unchivalrous', 'informative', 'unbold', 'smug', 'cunning']]...\n",
      "Average similarity for random sample #3: 0.399 -> [['uncultured', 'orderly', 'immodest', 'self-possessed', 'homicidal']]...\n",
      "Average similarity for random sample #4: 0.364 -> [['unrespectful', 'malevolent', 'empathic', 'snoopy', 'snobbish']]...\n",
      "Average similarity for random sample #5: 0.389 -> [['buoyant', 'inquiring', 'dissatisfied', 'touchy', 'uncommunicative']]...\n",
      "Average similarity for random sample #6: 0.374 -> [['vindictive', 'unanimated', 'thoroughgoing', 'indestructible', 'plain-spoken']]...\n",
      "Average similarity for random sample #7: 0.348 -> [['unchangeable', 'unsociable', 'close-fisted', 'flammable', 'unconstrained']]...\n",
      "Average similarity for random sample #8: 0.340 -> [['slick', 'murderous', 'logical', 'self-confident', 'daring']]...\n",
      "Average similarity for random sample #9: 0.404 -> [['negative', 'frisky', 'incontrollable', 'heedless', 'courtly']]...\n",
      "Average similarity for random sample #10: 0.378 -> [['corrective', 'indelicate', 'progressive', 'shy', 'testy']]...\n",
      "Average similarity over 10 runs: 0.37769363397359845\n"
     ]
    },
    {
     "data": {
      "text/plain": [
       "count    10.000000\n",
       "mean      0.377694\n",
       "std       0.021589\n",
       "min       0.339606\n",
       "25%       0.366246\n",
       "50%       0.383606\n",
       "75%       0.390855\n",
       "max       0.403962\n",
       "dtype: float64"
      ]
     },
     "execution_count": 3,
     "metadata": {},
     "output_type": "execute_result"
    }
   ],
   "source": [
    "import pandas as pd\n",
    "\n",
    "from semantic_similarity import compute_similarity\n",
    "\n",
    "# for a random sample of 25 adjectives, compute the average similarity\n",
    "# for each set, over 10 runs...\n",
    "import random\n",
    "random_values = []\n",
    "for i in range(10):\n",
    "    random_adjectives = random.sample([x for x in adjectives if x in model], 25)\n",
    "    sim, _ = compute_similarity(random_adjectives, model)\n",
    "    print(f\"Average similarity for random sample #{i+1}: {sim:.3f} -> [{random_adjectives[:5]}]...\")\n",
    "    random_values.append(sim)\n",
    "\n",
    "print(\"Average similarity over 10 runs:\", sum(random_values) / 10)\n",
    "pd_random_sims = pd.Series(random_values)\n",
    "pd_random_sims.describe()"
   ]
  }
 ],
 "metadata": {
  "kernelspec": {
   "display_name": ".venv",
   "language": "python",
   "name": "python3"
  },
  "language_info": {
   "codemirror_mode": {
    "name": "ipython",
    "version": 3
   },
   "file_extension": ".py",
   "mimetype": "text/x-python",
   "name": "python",
   "nbconvert_exporter": "python",
   "pygments_lexer": "ipython3",
   "version": "3.10.12"
  }
 },
 "nbformat": 4,
 "nbformat_minor": 2
}
