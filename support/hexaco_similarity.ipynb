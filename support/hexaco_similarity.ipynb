{
 "cells": [
  {
   "cell_type": "code",
   "execution_count": 1,
   "metadata": {},
   "outputs": [],
   "source": [
    "from semantic_similarity import load_embedding_model\n",
    "model = load_embedding_model('../model_data/cc.en.300.vec')"
   ]
  },
  {
   "cell_type": "code",
   "execution_count": 2,
   "metadata": {},
   "outputs": [],
   "source": [
    "from data_support import load_hexaco_data\n",
    "hexaco_data = load_hexaco_data('../hexaco_loadings.csv')"
   ]
  },
  {
   "cell_type": "code",
   "execution_count": 3,
   "metadata": {},
   "outputs": [
    {
     "name": "stdout",
     "output_type": "stream",
     "text": [
      "Average similarity for Agreeableness: 0.545\n",
      "Average similarity for Extraversion: 0.462\n",
      "Average similarity for Conscientiousness: 0.474\n",
      "Average similarity for Emotionality: 0.523\n",
      "Average similarity for Openness: 0.489\n",
      "Average similarity for Honesty-Humility: 0.492\n"
     ]
    }
   ],
   "source": [
    "from semantic_similarity import compute_similarity\n",
    "\n",
    "hex_sim_values = []\n",
    "for dim in hexaco_data:\n",
    "    ts = [x for x in hexaco_data[dim].dropna().index if x in model]\n",
    "    sim, _ = compute_similarity(ts, model)\n",
    "    hex_sim_values.append(sim)\n",
    "    print(f\"Average similarity for {dim}: {sim:.3f}\")"
   ]
  }
 ],
 "metadata": {
  "kernelspec": {
   "display_name": ".venv",
   "language": "python",
   "name": "python3"
  },
  "language_info": {
   "codemirror_mode": {
    "name": "ipython",
    "version": 3
   },
   "file_extension": ".py",
   "mimetype": "text/x-python",
   "name": "python",
   "nbconvert_exporter": "python",
   "pygments_lexer": "ipython3",
   "version": "3.10.12"
  }
 },
 "nbformat": 4,
 "nbformat_minor": 2
}
